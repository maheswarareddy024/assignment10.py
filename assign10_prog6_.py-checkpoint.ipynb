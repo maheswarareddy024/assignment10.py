{
 "cells": [
  {
   "cell_type": "code",
   "execution_count": null,
   "metadata": {},
   "outputs": [],
   "source": [
    "def up_low(string):\n",
    "    uppers=0\n",
    "    lowers=0\n",
    "    for char in string:\n",
    "        if char.islower():\n",
    "            lowers+=1\n",
    "        elif char.isupper():\n",
    "            uppers+=1\n",
    "        else:\n",
    "            pass\n",
    "    return(uppers,lowers)\n",
    "print(up_low(\"hello mr.rogers,how are you this fine tuesday?\"))"
   ]
  }
 ],
 "metadata": {
  "kernelspec": {
   "display_name": "Python 3",
   "language": "python",
   "name": "python3"
  },
  "language_info": {
   "codemirror_mode": {
    "name": "ipython",
    "version": 3
   },
   "file_extension": ".py",
   "mimetype": "text/x-python",
   "name": "python",
   "nbconvert_exporter": "python",
   "pygments_lexer": "ipython3",
   "version": "3.7.3"
  }
 },
 "nbformat": 4,
 "nbformat_minor": 2
}
