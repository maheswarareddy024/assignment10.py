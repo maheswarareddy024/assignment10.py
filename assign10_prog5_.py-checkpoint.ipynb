{
 "cells": [
  {
   "cell_type": "code",
   "execution_count": null,
   "metadata": {},
   "outputs": [],
   "source": [
    "In [1]:\n",
    "def unique_list(l):\n",
    "    x=[]\n",
    "    for a in l:\n",
    "        if a not in x:\n",
    "            x.append(a)\n",
    "        return x\n",
    "print(unique_list([1,2,3,3,3,3,4,5]))\n",
    "[1]"
   ]
  }
 ],
 "metadata": {
  "kernelspec": {
   "display_name": "Python 3",
   "language": "python",
   "name": "python3"
  },
  "language_info": {
   "codemirror_mode": {
    "name": "ipython",
    "version": 3
   },
   "file_extension": ".py",
   "mimetype": "text/x-python",
   "name": "python",
   "nbconvert_exporter": "python",
   "pygments_lexer": "ipython3",
   "version": "3.7.3"
  }
 },
 "nbformat": 4,
 "nbformat_minor": 2
}
