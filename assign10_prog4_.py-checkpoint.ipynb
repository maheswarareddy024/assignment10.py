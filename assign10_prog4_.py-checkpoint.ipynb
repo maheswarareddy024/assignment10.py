{
 "cells": [
  {
   "cell_type": "code",
   "execution_count": null,
   "metadata": {},
   "outputs": [],
   "source": [
    "In [1]:\n",
    "def test_range(n):\n",
    "    if n in range(3,9):\n",
    "        print(\"%s is in the range\"%str(n))\n",
    "    else:\n",
    "        print(\"the number is outside the given range\")\n",
    "test_range(5)\n",
    "5 is in the range"
   ]
  }
 ],
 "metadata": {
  "kernelspec": {
   "display_name": "Python 3",
   "language": "python",
   "name": "python3"
  },
  "language_info": {
   "codemirror_mode": {
    "name": "ipython",
    "version": 3
   },
   "file_extension": ".py",
   "mimetype": "text/x-python",
   "name": "python",
   "nbconvert_exporter": "python",
   "pygments_lexer": "ipython3",
   "version": "3.7.3"
  }
 },
 "nbformat": 4,
 "nbformat_minor": 2
}
